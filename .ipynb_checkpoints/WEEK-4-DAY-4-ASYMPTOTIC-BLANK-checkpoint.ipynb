{
 "cells": [
  {
   "cell_type": "markdown",
   "metadata": {},
   "source": [
    "# Asymptotic Analysis & Data Structures\n",
    "\n",
    "### Topics to discuss today:\n",
    "\n",
    "<ul>\n",
    "    <li>What is Asymptotic Analysis?</li>\n",
    "    <li>Classifying time complexities</li>\n",
    "    <li>Classifying space complexities</li>\n",
    "    <li>Implementing a LinkedList</li>\n",
    "</ul>"
   ]
  },
  {
   "cell_type": "markdown",
   "metadata": {},
   "source": [
    "### What is Asymptotic Analysis?\n",
    "\n",
    "Asymptotic analysis refers to setting mathematical bounds of an algorithms run-time performance. Asymptotic analysis is used for estimating time and space complexity.\n",
    "\n",
    "There are three metrics we measure:\n",
    "<ul>\n",
    "<li><b>Best Case</b> − Minimum time required for running.</li>\n",
    "<li><b>Average Case</b> − Average time required for running.</li>\n",
    "<li><b>Worst Case</b> − Maximum time required for running.</li>\n",
    "</ul>\n",
    "\n",
    "Here are the two major asymptotic notations that we'll be focusing on today:\n",
    "<ul>\n",
    "<li>Ο Notation (Big O Notation)</li>\n",
    "<li>Ω Notation (Omega Notation)</li>\n",
    "</ul>\n",
    "\n",
    "#### Big O Notation\n",
    "Big O notation expresses the <b>upper bound</b> of an algorithm's execution time. This measures the <b>worst case</b> time complexity.\n",
    "\n",
    "#### Omega Notation\n",
    "Omega notation expresses the <b>lower bound</b> of an algorithm's execution time. This measures the <b>best case</b> time complexity."
   ]
  },
  {
   "cell_type": "markdown",
   "metadata": {},
   "source": [
    "\n",
    "\n",
    "<table style=\"text-align:left;\" class=\"table table-bordered\">\n",
    "    <thead>\n",
    "        <tr>\n",
    "            <th>Name</th>\n",
    "            <th>Time Complexity</th>\n",
    "        </tr>\n",
    "    </thead>\n",
    "\n",
    "  <tr>\n",
    "<td>constant</td>\n",
    "<td>Ο(1)</td>\n",
    "</tr>\n",
    "<tr>\n",
    "<td>logarithmic</td>\n",
    "<td>Ο(log n)</td>\n",
    "</tr>\n",
    "<tr>\n",
    "<td>linear</td>\n",
    "<td>Ο(n)</td>\n",
    "</tr>\n",
    "<tr>\n",
    "<td>n log n</td>\n",
    "<td>Ο(n log n)</td>\n",
    "</tr>\n",
    "<tr>\n",
    "<td>quadratic</td>\n",
    "<td>Ο(n<sup>2</sup>)</td>\n",
    "</tr>\n",
    "<tr>\n",
    "<td>cubic</td>\n",
    "<td>Ο(n<sup>3</sup>)</td>\n",
    "</tr>\n",
    "<tr>\n",
    "<td>polynomial</td>\n",
    "<td>n<sup>Ο(1)</sup></td>\n",
    "</tr>\n",
    "<tr>\n",
    "<td>exponential</td>\n",
    "<td>2<sup>Ο(n)</sup></td>\n",
    "</tr>\n",
    "</table>\n",
    "\n",
    "Extra resources:\n",
    "https://www.youtube.com/watch?v=0oDAlMwTrLo"
   ]
  },
  {
   "cell_type": "markdown",
   "metadata": {},
   "source": [
    "##### O(1) Example\n",
    "No matter the size of the input data, the execution time will always be the same"
   ]
  },
  {
   "cell_type": "code",
   "execution_count": 8,
   "metadata": {},
   "outputs": [],
   "source": [
    "def compare_two_numbers(num1, num2):\n",
    "    if num1 > num2: #O(1)\n",
    "        return num1 #O(1)\n",
    "    elif num2 > num1: #O(1)\n",
    "        return num2 #O(1)\n",
    "    else:\n",
    "        return None #O(1)\n",
    "    \n",
    "#Constant -> O(1)"
   ]
  },
  {
   "cell_type": "code",
   "execution_count": 9,
   "metadata": {},
   "outputs": [
    {
     "name": "stdout",
     "output_type": "stream",
     "text": [
      "270 ns ± 60.1 ns per loop (mean ± std. dev. of 7 runs, 1,000,000 loops each)\n"
     ]
    }
   ],
   "source": [
    "%timeit compare_two_numbers(5,6)"
   ]
  },
  {
   "cell_type": "code",
   "execution_count": 10,
   "metadata": {},
   "outputs": [],
   "source": [
    "def compare_elements_in_list(alist):\n",
    "    #indexing into list is constant\n",
    "    return alist[0] > alist[-1] #O(1)\n",
    "\n",
    "#O(N) -> constant "
   ]
  },
  {
   "cell_type": "code",
   "execution_count": 13,
   "metadata": {},
   "outputs": [],
   "source": [
    "test_list = [num for num in range(100000000)]"
   ]
  },
  {
   "cell_type": "code",
   "execution_count": 14,
   "metadata": {},
   "outputs": [
    {
     "name": "stdout",
     "output_type": "stream",
     "text": [
      "513 ns ± 59.4 ns per loop (mean ± std. dev. of 7 runs, 1,000,000 loops each)\n"
     ]
    }
   ],
   "source": [
    "%timeit compare_elements_in_list([0,1])\n"
   ]
  },
  {
   "cell_type": "code",
   "execution_count": 15,
   "metadata": {},
   "outputs": [
    {
     "name": "stdout",
     "output_type": "stream",
     "text": [
      "426 ns ± 64.9 ns per loop (mean ± std. dev. of 7 runs, 1,000,000 loops each)\n"
     ]
    }
   ],
   "source": [
    "%timeit compare_elements_in_list(test_list)"
   ]
  },
  {
   "cell_type": "markdown",
   "metadata": {},
   "source": [
    "##### O(n) Example\n",
    "The execution time increases linearly with the length of the input. For each growth in size of the input, the time it takes to run increases by the same amount."
   ]
  },
  {
   "cell_type": "code",
   "execution_count": 19,
   "metadata": {},
   "outputs": [],
   "source": [
    "def greet_students(name_list):\n",
    "    for name in name_list: #O(N)\n",
    "        greeting_string = f'Welcome to the Matrix {name}' #O(1)\n",
    "        \n",
    "#O(N+1) -> O(N)"
   ]
  },
  {
   "cell_type": "code",
   "execution_count": 20,
   "metadata": {},
   "outputs": [
    {
     "name": "stdout",
     "output_type": "stream",
     "text": [
      "437 ns ± 36.3 ns per loop (mean ± std. dev. of 7 runs, 1,000,000 loops each)\n"
     ]
    }
   ],
   "source": [
    "%timeit greet_students(['mehrab', 'david'])"
   ]
  },
  {
   "cell_type": "code",
   "execution_count": 23,
   "metadata": {},
   "outputs": [],
   "source": [
    "fake_student_list = ['ben' for i in range(100000000)]"
   ]
  },
  {
   "cell_type": "code",
   "execution_count": 25,
   "metadata": {},
   "outputs": [
    {
     "name": "stdout",
     "output_type": "stream",
     "text": [
      "10.7 s ± 2.09 s per loop (mean ± std. dev. of 7 runs, 1 loop each)\n"
     ]
    }
   ],
   "source": [
    "%timeit greet_students(fake_student_list)"
   ]
  },
  {
   "cell_type": "code",
   "execution_count": null,
   "metadata": {},
   "outputs": [],
   "source": [
    "def my_sum(nums):\n",
    "    count = 0\n",
    "    for num in nums: #O(N)\n",
    "        count += num #O(1)\n",
    "    return count #O(1)\n",
    "#O(N + 1 + 1 + 1) -> O(N)"
   ]
  },
  {
   "cell_type": "code",
   "execution_count": null,
   "metadata": {},
   "outputs": [],
   "source": [
    "def convert_to_set_and_dict(alist):\n",
    "    output_set,hash_map = set(), {} #O(1)\n",
    "    for e in alist: #O(N)\n",
    "        output_set:add(e) #O(1)\n",
    "    for e in alist: #O(N)\n",
    "        hash_map[e] = hash_map_get(e,0) + 1\n",
    "    return output_set, hash_map\n",
    "#O(N + N +1 +1 +1) -> O(2N +1) -> O(2N) -> O(N)\n",
    "#O(N) Linear"
   ]
  },
  {
   "cell_type": "code",
   "execution_count": null,
   "metadata": {},
   "outputs": [],
   "source": [
    "#trick question\n",
    "\n",
    "def decided_last_element(boolean_list):\n",
    "    #First loop we hit a return\n",
    "    #unable get passed first loop\n",
    "    #constantly return on first loop\n",
    "    for b in boolean_list:\n",
    "        if not boolean_list[-1]:\n",
    "            return True\n",
    "        else:\n",
    "            return False"
   ]
  },
  {
   "cell_type": "code",
   "execution_count": null,
   "metadata": {},
   "outputs": [],
   "source": [
    "#count, index, pop, insert, upper lower, sum\n",
    "\n",
    "#.count() -> O(N)\n",
    "[1,2,1,1,5,7].count(1)\n",
    "\n",
    "#index O(N)\n",
    "#best case O(1)\n",
    "[1,3,4,5,6,7,8].index(8)\n",
    "[8,1,3,4,5,6,7,8].index(8)\n",
    "\n",
    "#pop default argument or index -> O(1)\n",
    "#popping passing an index -> O(N)\n",
    "[1,2,3,4,6].pop(0)#Linear\n",
    "[2,3,4,6].pop() #constant\n",
    "\n",
    "#reversing O(N)\n",
    "[1,2,3,4,5][::-1]\n",
    "[5,4,3,2,1]\n",
    "\n",
    "[i for i in range(100)][0:2] #Constant grabbing 2 elements\n",
    "\n",
    "'sean'.upper() #O(N) grabbing every element\n",
    "'sean'.lower() #O(N) grabbing every element\n",
    "\n",
    "#sum O(N)\n",
    "\n",
    "#indexing into iterable is constant\n",
    "[i for i in range (1000000)][600] #O(1)\n",
    "\n",
    "#.append O(1) - constant\n",
    "[1,2,3,5].append(10) #going directly to end of list and adding\n",
    "\n",
    "#.insert() O(N) - linear\n",
    "inserted = [1,2,3,4,5]\n",
    "inserted.insert(0,10)\n",
    "inserted"
   ]
  },
  {
   "cell_type": "code",
   "execution_count": null,
   "metadata": {},
   "outputs": [],
   "source": [
    "# Membership checks\n",
    "print(10 in [1,2,3,4,55,44,33] #O(N) checks every element until finds match or finishes list\n",
    "100 in (1,2,3,4,55,44,33) #O(N) checks every element until finds match or finishes tuple\n",
    "3 in '1234554433' #O(N) checks every element until finds match or finishes string\n",
    "      \n",
    "my_set = {1,2,3,4,5,6,7,8,9} #O(1) key values are hashed, stored in memory\n",
    "9 in my_set\n",
    "my_dict = {'a':0, 'b':1, 'c':2} #O(1) key values are hashed, stored in memory\n",
    "\n",
    "'c' in my_dict\n",
    "      \n",
    "2 in my_dict.values() #O(N) .values returns list like object\n"
   ]
  },
  {
   "cell_type": "markdown",
   "metadata": {},
   "source": [
    "##### O(log(n))\n",
    "A logarithmic time complexity increases linearly as the input increases exponentially. Usually this occurs when we decrease the size of our input as we move through our algorithm. It is O(log(n)) when we do divide and conquer type of algorithms like binary search. \n",
    "\n",
    "Additional Explanations:\n",
    "https://www.youtube.com/watch?v=wjDY5RbILno\n"
   ]
  },
  {
   "cell_type": "code",
   "execution_count": 26,
   "metadata": {},
   "outputs": [
    {
     "data": {
      "text/plain": [
       "10"
      ]
     },
     "execution_count": 26,
     "metadata": {},
     "output_type": "execute_result"
    }
   ],
   "source": [
    "def counts_to_num(num):\n",
    "    count,step = 0,0\n",
    "    while count < num:\n",
    "        count += 1\n",
    "        step+= 1\n",
    "    return step\n",
    "counts_to_num(10)"
   ]
  },
  {
   "cell_type": "code",
   "execution_count": 28,
   "metadata": {},
   "outputs": [
    {
     "data": {
      "text/plain": [
       "7"
      ]
     },
     "execution_count": 28,
     "metadata": {},
     "output_type": "execute_result"
    }
   ],
   "source": [
    "def counts_to_num(num):\n",
    "    count,step = 1,0\n",
    "    while count < num:\n",
    "        count *= 2\n",
    "        step+= 1\n",
    "    return step\n",
    "counts_to_num(100)"
   ]
  },
  {
   "cell_type": "code",
   "execution_count": null,
   "metadata": {},
   "outputs": [],
   "source": [
    "#Binary Search\n",
    "#split numbers in half\n",
    "#decide if higher or lower, or found target\n",
    "#do while\n",
    "\n",
    "def binary_search(target, alist):\n",
    "    left_point, right_point = 0, len(alist) -1\n",
    "    step = 0\n",
    "    while left_point <= right_point:\n",
    "        mid_point = (left_point + right_point) // 2\n",
    "        if alist[mid_point] ==  target:\n",
    "            return mid_point, alist(mid_point)\n",
    "        if alist[mid_point] > target:\n",
    "            right_Point = mid_point\n",
    "        else:\n",
    "            left_point = mid_point\n",
    "    return f'{target} not found'\n",
    "\n",
    "num_list = [1,2,3,4,5,6,7,8,9,10]\n",
    "\n",
    "binary_search(3, num_list)\n",
    "#binary_search(99999999, [num for num in range(1000,100000000)])"
   ]
  },
  {
   "cell_type": "markdown",
   "metadata": {},
   "source": [
    "###### O(n^2) Example\n",
    "When an algorithm needs to perform a linear time operation for each value in the input data"
   ]
  },
  {
   "cell_type": "code",
   "execution_count": 38,
   "metadata": {},
   "outputs": [
    {
     "data": {
      "text/plain": [
       "121"
      ]
     },
     "execution_count": 38,
     "metadata": {},
     "output_type": "execute_result"
    }
   ],
   "source": [
    "def quadratic_solution(alist):\n",
    "    steps = 0 #O(1)\n",
    "    for e in alist: #O(N)\n",
    "        for ele in alist: #O(N)\n",
    "            steps += 1 #O(1)\n",
    "    return steps #O(1)\n",
    "\n",
    "#O(N**2)\n",
    "quadratic_solution([num for num in range(11)])"
   ]
  },
  {
   "cell_type": "code",
   "execution_count": 39,
   "metadata": {},
   "outputs": [
    {
     "data": {
      "text/plain": [
       "1"
      ]
     },
     "execution_count": 39,
     "metadata": {},
     "output_type": "execute_result"
    }
   ],
   "source": [
    "def find_most_occuring(alist):\n",
    "    max_count = 0 #O(1)\n",
    "    output_element = None #O(1)\n",
    "    for e in alist: #O(N)\n",
    "        #current_count = alist.count(e) #O(N)\n",
    "        if alist.count(e) > max_count: #O(1)\n",
    "            max_count = alist.count(e) #O(1)\n",
    "            output_element = e #O(1)\n",
    "    return output_element #O(1)\n",
    "#O(N**2)\n",
    "find_most_occuring([1,2,3,4,4,9,1,9,1])"
   ]
  },
  {
   "cell_type": "code",
   "execution_count": 42,
   "metadata": {},
   "outputs": [
    {
     "data": {
      "text/plain": [
       "False"
      ]
     },
     "execution_count": 42,
     "metadata": {},
     "output_type": "execute_result"
    }
   ],
   "source": [
    "def find_vowel(astring):\n",
    "    vowels = 'aeiou' #O(1)\n",
    "    for letter in astring.lower(): #O(2N)\n",
    "        if letter in vowels:\n",
    "            return True\n",
    "    return False\n",
    "\n",
    "find_vowel('bcd')"
   ]
  },
  {
   "cell_type": "markdown",
   "metadata": {},
   "source": [
    "### In-Class Exercise\n",
    "In a comment in the following three cells, classify each algorithm into one of the time complexities discussed above."
   ]
  },
  {
   "cell_type": "code",
   "execution_count": 58,
   "metadata": {},
   "outputs": [
    {
     "name": "stdout",
     "output_type": "stream",
     "text": [
      "[2, 3, 4, 5, 6, 7, 8, 9]\n",
      "[3, 4, 5, 6, 7, 8, 9]\n",
      "[4, 5, 6, 7, 8, 9]\n",
      "[5, 6, 7, 8, 9]\n",
      "[6, 7, 8, 9]\n",
      "[7, 8, 9]\n",
      "[8, 9]\n",
      "[9]\n",
      "[]\n"
     ]
    }
   ],
   "source": [
    "def two_sum_loops(nums, target): \n",
    "    for i, num in enumerate(nums): #O(N)\n",
    "        print(nums[i + 1:])\n",
    "        for j, num2 in enumerate(nums[i + 1:]): #O(N)\n",
    "            if target - num == num2: #O(1)\n",
    "                return [i,j+i+1] #O(1)\n",
    "two_sum_loops([1,2,3,4,5,6,7,8,9],20)\n",
    "\n",
    "#O(n**2)"
   ]
  },
  {
   "cell_type": "code",
   "execution_count": 3,
   "metadata": {},
   "outputs": [],
   "source": [
    "def two_sum(nums, target):\n",
    "    d={} #O(1)\n",
    "    for i, num in enumerate(nums): #O(N)\n",
    "        if target - num in d: #O(1)\n",
    "            return [d[target-num],i] #O(1)\n",
    "        d[num]=i #O(1)\n",
    "    return -1 #O(1)\n",
    "\n",
    "#O(n)"
   ]
  },
  {
   "cell_type": "code",
   "execution_count": 4,
   "metadata": {},
   "outputs": [],
   "source": [
    "def check_if_num_in_list(a_list, value):\n",
    "    return value in a_list #O(N)"
   ]
  },
  {
   "cell_type": "code",
   "execution_count": null,
   "metadata": {},
   "outputs": [],
   "source": [
    "def remove_from_list(alist, target):\n",
    "    for i,e in enumerate(alist): #O(N)\n",
    "        if e == target:# O(1)\n",
    "            alist.pop(i)# O(N)\n",
    "            return alist\n",
    "        return alist\n",
    "#O()"
   ]
  },
  {
   "cell_type": "markdown",
   "metadata": {},
   "source": [
    "## Space Complexity\n",
    "Space complexity refers to the total amount of memory space that is consumed by an algorithm. This value includes both any new values created as well as well as input values\n",
    "\n",
    "We'll use Big O notation for space complexity as well. In this case, Big O gives the worst-case of an algorithm’s growth rate. \n",
    "\n",
    "\"The space this algorithm takes will grow no more quickly than this, but it could grow more slowly.\""
   ]
  },
  {
   "cell_type": "markdown",
   "metadata": {},
   "source": [
    "###### O(1) Example"
   ]
  },
  {
   "cell_type": "code",
   "execution_count": null,
   "metadata": {},
   "outputs": [],
   "source": [
    "#input space - O(1+1) O(1)\n",
    "#aux space - O(1)\n",
    "def add_nums(num1, num2):\n",
    "    output = num1 + num2 #O(1)\n",
    "    return num1 + num2\n",
    "#O(1)"
   ]
  },
  {
   "cell_type": "markdown",
   "metadata": {},
   "source": [
    "###### O(n) Example\n",
    "Input Space: O(n) <- This comes from aList in the input\n",
    "Auxiliary Space: O(1) <- The only variables created in the function are integers\n",
    "\n",
    "Total Space: O(n + 1) or O(n)"
   ]
  },
  {
   "cell_type": "code",
   "execution_count": null,
   "metadata": {},
   "outputs": [],
   "source": [
    "#input: O(N) based off size input list\n",
    "#aux: O(1)\n",
    "def add_nums(alist):\n",
    "    count = 0\n",
    "    for num in alist:\n",
    "        count += num\n",
    "    return count\n",
    "#O(N)"
   ]
  },
  {
   "cell_type": "code",
   "execution_count": null,
   "metadata": {},
   "outputs": [],
   "source": [
    "def get_squared_numbers(num):\n",
    "    output = []\n",
    "    for num in range(num):\n",
    "        output.append(n**2)\n",
    "    return output\n",
    "\n",
    "#O(N)"
   ]
  },
  {
   "cell_type": "markdown",
   "metadata": {},
   "source": [
    "The recursive calls generate new function calls in the stack. Each call on the stack stores a separate copy of the variables defined in the function. The array is passed by reference so a separate copy of the array is not created for each function call. As we can have O(log(n)) calls to the function, the space complexity of the recursive version should include the O(log(n)) auxiliary space. Hence, the overall space complexity is:\n",
    "\n",
    "Input space: O(n)\n",
    "Auxiliary space: O(log n)\n",
    "\n",
    "Total Space: O(n + log n) OR O(n)"
   ]
  },
  {
   "cell_type": "code",
   "execution_count": null,
   "metadata": {},
   "outputs": [],
   "source": []
  },
  {
   "cell_type": "code",
   "execution_count": null,
   "metadata": {},
   "outputs": [],
   "source": []
  }
 ],
 "metadata": {
  "kernelspec": {
   "display_name": "Python 3 (ipykernel)",
   "language": "python",
   "name": "python3"
  },
  "language_info": {
   "codemirror_mode": {
    "name": "ipython",
    "version": 3
   },
   "file_extension": ".py",
   "mimetype": "text/x-python",
   "name": "python",
   "nbconvert_exporter": "python",
   "pygments_lexer": "ipython3",
   "version": "3.10.9"
  }
 },
 "nbformat": 4,
 "nbformat_minor": 2
}
